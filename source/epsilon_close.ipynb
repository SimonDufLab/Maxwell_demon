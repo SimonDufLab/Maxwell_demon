{
 "cells": [
  {
   "cell_type": "code",
   "execution_count": 14,
   "metadata": {
    "pycharm": {
     "name": "#%%\n"
    }
   },
   "outputs": [],
   "source": [
    "import jax.numpy as jnp\n",
    "import pickle\n",
    "import matplotlib.pyplot as plt\n",
    "from matplotlib.widgets import Slider\n",
    "\n",
    "from jax.flatten_util import ravel_pytree"
   ]
  },
  {
   "cell_type": "code",
   "execution_count": null,
   "outputs": [],
   "source": [
    "# Load the desired pickle file\n",
    "activation_dict = pickle.load(open('/mnt/SharedDrive/Repositories/Maxwell_demon/logs/metadata/asymptotic_live_neurons/2022-06-19---June 19---10:36:20/activations_meta.p',\n",
    "                             'rb'))\n",
    "print(activation_dict.keys())"
   ],
   "metadata": {
    "collapsed": false,
    "pycharm": {
     "name": "#%%\n"
    }
   }
  },
  {
   "cell_type": "code",
   "execution_count": null,
   "outputs": [],
   "source": [
    "def count_total_neurons(activations):\n",
    "    \"\"\"return the total neurons in given model\"\"\"\n",
    "    total_neurons = []\n",
    "    for layer_activ in activations:\n",
    "        flat_layer_activations, unravel_fn = ravel_pytree(layer_activ)\n",
    "        total_neurons.append(len(flat_layer_activations))\n",
    "    return total_neurons\n",
    "\n",
    "def count_epsilon_close(eps, activations):\n",
    "    \"\"\"Return the number of epsion_close live neurons in the given model\"\"\"\n",
    "    count=[]\n",
    "    for layer_activ in activations:\n",
    "        flat_layer_activations, unravel_fn = ravel_pytree(layer_activ)\n",
    "        count.append(jnp.sum(flat_layer_activations >=eps))\n",
    "    return count  "
   ],
   "metadata": {
    "collapsed": false,
    "pycharm": {
     "name": "#%%\n"
    }
   }
  },
  {
   "cell_type": "code",
   "execution_count": null,
   "outputs": [],
   "source": [
    "%matplotlib notebook\n",
    "\n",
    "# Inspecting maximum activation value:\n",
    "key = 'maximum'\n",
    "activations = activation_dict[key]\n",
    "\n",
    "# Initial eps value\n",
    "init_eps = 0\n",
    "\n",
    "# total_neurons\n",
    "total_neurons = count_total_neurons(activations)\n",
    "\n",
    "# Create the figure\n",
    "fig, ax = plt.subplots()\n",
    "line, = plt.plot(total_neurons, count_epsilon_close(init_eps, activations), lw=2)\n",
    "ax.set_xlabel('Total number of neurons')\n",
    "\n",
    "# adjust the main plot to make room for the sliders\n",
    "plt.subplots_adjust(bottom=0.25) \n",
    "\n",
    "# Make a horizontal slider to control epsilon\n",
    "axfreq = plt.axes([0.25, 0.1, 0.65, 0.03])\n",
    "eps_slider = Slider(\n",
    "    ax=axfreq,\n",
    "    label='epsilon',\n",
    "    valmin=0.0,\n",
    "    valmax=0.0001,\n",
    "    valinit=init_eps,\n",
    ")\n",
    "\n",
    "# The function to be called anytime a slider's value changes\n",
    "def update(val):\n",
    "    line.set_ydata(count_epsilon_close(eps_slider.val, activations))\n",
    "    fig.canvas.draw_idle()\n",
    "    \n",
    "# register the update function with each slider\n",
    "eps_slider.on_changed(update)\n",
    "\n",
    "plt.show()"
   ],
   "metadata": {
    "collapsed": false,
    "pycharm": {
     "name": "#%%\n"
    }
   }
  },
  {
   "cell_type": "code",
   "execution_count": null,
   "outputs": [],
   "source": [
    "%matplotlib notebook\n",
    "\n",
    "# Inspecting mean activation value:\n",
    "key = 'mean'\n",
    "activations = activation_dict[key]\n",
    "\n",
    "# Initial eps value\n",
    "init_eps = 0\n",
    "\n",
    "# total_neurons\n",
    "total_neurons = count_total_neurons(activations)\n",
    "\n",
    "# Create the figure\n",
    "fig, ax = plt.subplots()\n",
    "line, = plt.plot(total_neurons, count_epsilon_close(init_eps, activations), lw=2)\n",
    "ax.set_xlabel('Total number of neurons')\n",
    "\n",
    "# adjust the main plot to make room for the sliders\n",
    "plt.subplots_adjust(bottom=0.25) \n",
    "\n",
    "# Make a horizontal slider to control epsilon\n",
    "axfreq = plt.axes([0.25, 0.1, 0.65, 0.03])\n",
    "eps_slider = Slider(\n",
    "    ax=axfreq,\n",
    "    label='epsilon',\n",
    "    valmin=0.0,\n",
    "    valmax=0.0001,\n",
    "    valinit=init_eps,\n",
    ")\n",
    "\n",
    "# The function to be called anytime a slider's value changes\n",
    "def update(val):\n",
    "    line.set_ydata(count_epsilon_close(eps_slider.val, activations))\n",
    "    fig.canvas.draw_idle()\n",
    "    \n",
    "# register the update function with each slider\n",
    "eps_slider.on_changed(update)\n",
    "\n",
    "plt.show()"
   ],
   "metadata": {
    "collapsed": false,
    "pycharm": {
     "name": "#%%\n"
    }
   }
  },
  {
   "cell_type": "code",
   "execution_count": null,
   "outputs": [],
   "source": [
    "%matplotlib notebook\n",
    "\n",
    "# Inspecting count value:\n",
    "key = 'count'\n",
    "activations = activation_dict[key]\n",
    "\n",
    "# Initial eps value\n",
    "init_eps = 1\n",
    "\n",
    "# total_neurons\n",
    "total_neurons = count_total_neurons(activations)\n",
    "\n",
    "# Create the figure\n",
    "fig, ax = plt.subplots()\n",
    "line, = plt.plot(total_neurons, count_epsilon_close(init_eps, activations), lw=2)\n",
    "ax.set_xlabel('Total number of neurons')\n",
    "\n",
    "# adjust the main plot to make room for the sliders\n",
    "plt.subplots_adjust(bottom=0.25) \n",
    "\n",
    "# Make a horizontal slider to control epsilon\n",
    "axfreq = plt.axes([0.25, 0.1, 0.65, 0.03])\n",
    "eps_slider = Slider(\n",
    "    ax=axfreq,\n",
    "    label='epsilon',\n",
    "    valmin=1,\n",
    "    valmax=100,\n",
    "    valinit=init_eps,\n",
    ")\n",
    "\n",
    "# The function to be called anytime a slider's value changes\n",
    "def update(val):\n",
    "    line.set_ydata(count_epsilon_close(eps_slider.val, activations))\n",
    "    fig.canvas.draw_idle()\n",
    "    \n",
    "# register the update function with each slider\n",
    "eps_slider.on_changed(update)\n",
    "\n",
    "plt.show()"
   ],
   "metadata": {
    "collapsed": false,
    "pycharm": {
     "name": "#%%\n"
    }
   }
  }
 ],
 "metadata": {
  "kernelspec": {
   "display_name": "Python 3 (ipykernel)",
   "language": "python",
   "name": "python3"
  },
  "language_info": {
   "codemirror_mode": {
    "name": "ipython",
    "version": 3
   },
   "file_extension": ".py",
   "mimetype": "text/x-python",
   "name": "python",
   "nbconvert_exporter": "python",
   "pygments_lexer": "ipython3",
   "version": "3.10.4"
  }
 },
 "nbformat": 4,
 "nbformat_minor": 1
}